{
 "cells": [
  {
   "cell_type": "markdown",
   "metadata": {},
   "source": [
    "# Perceptron"
   ]
  },
  {
   "cell_type": "markdown",
   "metadata": {},
   "source": [
    "We will now implement the perceptron classifier. We put ourselves in a setting where we have access to training examples $\\boldsymbol{x}_i$ and each of them is associated with a target $y\\in{-1,1}$. \n",
    "\n",
    "The perceptron classifier is a simple model that consists of a single neuron with a step activation function (also known as a [heavyside step function](https://en.wikipedia.org/wiki/Heaviside_step_function)).\n",
    "\n",
    "One can visualize it as follows:\n",
    "![The Perceptron](./scripts/perceptron.png)"
   ]
  },
  {
   "cell_type": "markdown",
   "metadata": {},
   "source": [
    "## Forward propagation\n",
    "Given an n-dimensional input $x\\in\\mathbb{R}^n$ and taking into account the bias unit, one moves from the input to the output with two steps: \n",
    "- $s= \\sum\\limits_{i=0}^n w_ix_i$, where for consistency assume that the bias unit is $x_0$\n",
    "- Application of the step function on s, that is\n",
    "$a = \\begin{cases} \n",
    "      1 & s\\geq 0 \\\\\n",
    "      -1 & s < 0 \n",
    "\\end{cases}\n",
    "$"
   ]
  },
  {
   "cell_type": "markdown",
   "metadata": {},
   "source": [
    "## Error propagation\n",
    "\n",
    "Repeat until max_epochs or convergence is reached:\n",
    "\n",
    "For each example in the training set:   \n",
    "1. Forward pass to calculate $a$\n",
    "3. If the example is misclassified: update each of the  weights $i$ with: $w_i^{(t+1)} = w_i^{(t)} + \\eta*x_i*y_i$"
   ]
  },
  {
   "cell_type": "markdown",
   "metadata": {},
   "source": [
    "## Why these update equations?\n",
    "We are in the standard supervised classification setting, where one has $k$ examples $\\vec{X}={\\vec{x_1}, \\ldots, \\vec{x_k}}$, where $\\vec{x_k} \\in \\mathbb{R}^n$. Each $\\vec{x}_k \\in \\vec{X}$ is associated with a category $y_k \\in \\mathbb{Y}$, from a pre-defined set of categories. In the binary case $\\mathbb{Y}=\\{-1, +1\\}$.  \n",
    "\n",
    "We then, want to learn a vector $\\vec{w} \\in \\mathbb{R}^{n+1}$, to perform the above described classification step. For the weight vector $\\vec{w}$ we moved from $n$ to $n+1$ dimensions to account for the bias unit.\n",
    "Using the perceptron algorithm we want to minimize the number of examples we misclassify, and essentially if the examples are linearly separable, misclassify nothing. Hence, one can define a simple loss function:\n",
    "\n",
    "$\\mathbb{L} = -\\sum\\limits_{k} y_k(\\vec{w}\\cdot\\vec{x_k})$ \n",
    "\n",
    "In the online case, where one updates the weights for a single instance $k$, this becomes:\n",
    "$\\mathbb{L} = - y_k(\\vec{w}\\cdot\\vec{x_k})$, where  L\n",
    "\n",
    "To change the direction of $\\vec{w}$ when we misclassify, we can:\n",
    "\n",
    "$\\nabla L = \\frac{\\partial L}{\\partial w}= - y_k x_k$\n",
    "\n",
    "We scale this update using the learning rate $\\eta$ and we update by taking a step towards the negative of the gradient:\n",
    "\n",
    "$w_k^{(t+1)} = w_k^{(t)} + \\eta*x_k*y_k$\n",
    "\n"
   ]
  },
  {
   "cell_type": "markdown",
   "metadata": {},
   "source": [
    "## The next steps\n",
    "TBD: Your code goes here:\n",
    "1. create a simple training set like the OR function\n",
    "2. Code the perceptron classifier\n",
    "3. Learn the Or function"
   ]
  },
  {
   "cell_type": "markdown",
   "metadata": {},
   "source": [
    "You may want to ckeck: `np.array`, `numpy.random.rand`, `numpy.dot`,  `random.choice`"
   ]
  },
  {
   "cell_type": "code",
   "execution_count": 3,
   "metadata": {
    "collapsed": false
   },
   "outputs": [],
   "source": [
    "import random, numpy as np, matplotlib.pyplot as plt, time\n",
    "%matplotlib inline"
   ]
  },
  {
   "cell_type": "code",
   "execution_count": 7,
   "metadata": {
    "collapsed": true
   },
   "outputs": [],
   "source": [
    "class Perceptron:\n",
    "    def __init__(self, N, eta=0.2):\n",
    "        self.W = np.zeros(N)\n",
    "        self.eta = eta\n",
    "        \n",
    "    def step(self, value):\n",
    "        if value >= 0:\n",
    "            return 1\n",
    "        else:\n",
    "            return -1\n",
    "        \n",
    "    def forward_prop(self, x_input):\n",
    "        return np.dot(self.W, x_input)\n",
    "        \n",
    "    def getScore(self, X, Y):\n",
    "        cnt = 0\n",
    "        for key, val in enumerate(X):\n",
    "            if self.step( self.forward_prop(val) ) != Y[key]:\n",
    "                cnt +=1 \n",
    "        return 1 - cnt/float(len(X))\n",
    "            \n",
    "    \n",
    "    def fit(self, X, Y, iterations=0):\n",
    "        if not iterations:\n",
    "            iterations = len(Y)\n",
    "        for i in range(iterations):\n",
    "            ind = np.random.randint(0, len(Y)) #Pick randomly a training example index\n",
    "            prediction = self.step( self.forward_prop(X[ind]) ) \n",
    "            if prediction != Y[ind]:  # We need to update the weights, because we made an error\n",
    "                error = Y[ind] - prediction\n",
    "                self.W = self.W + self.eta * Y[ind] * X[ind]\n",
    "        print self.getScore(X,Y)\n",
    "                \n",
    "    def predict(self, X):\n",
    "        return self.step( self.forward_prop(X[ind]) )\n",
    "        \n",
    "    def visualize(self, X, Y):\n",
    "        plt.plot(X[:, 1][Y==1], X[:, 2][Y==1], 'ro')\n",
    "        plt.plot(X[:, 1][Y==-1], X[:, 2][Y==-1], 'bo')\n",
    "        plt.xlim([-1, 1])\n",
    "        plt.ylim([-1, 1])\n",
    "        x = np.linspace(-1,1)\n",
    "        a, b = -self.W[1]/self.W[2], -self.W[0]/self.W[2]\n",
    "        plt.plot(x, a*x+b, 'k-')\n",
    "            \n",
    "            \n",
    "            \n",
    "            \n",
    "    \n",
    "        "
   ]
  },
  {
   "cell_type": "code",
   "execution_count": 5,
   "metadata": {
    "collapsed": false
   },
   "outputs": [],
   "source": [
    "def generate_points(N, V):\n",
    "    X = []\n",
    "    for i in range(N):\n",
    "        x1,x2 = [random.uniform(-1, 1) for i in range(2)]\n",
    "        x = np.array([1,x1,x2])\n",
    "        s = int(np.sign(V.T.dot(x)))\n",
    "        X.append((x, s))\n",
    "    return X\n",
    "xA,yA,xB,yB = [random.uniform(-1, 1) for i in range(4)]\n",
    "V = np.array([xB*yA-xA*yB, yB-yA, xA-xB])\n",
    "X = generate_points(100, V)\n",
    "Z, Y  = np.array([i[0] for i in X]), np.array([i[1] for i in X])\n",
    "# Y[Y==-1] = 0"
   ]
  },
  {
   "cell_type": "code",
   "execution_count": 8,
   "metadata": {
    "collapsed": false
   },
   "outputs": [
    {
     "data": {
      "text/plain": [
       "(3,)"
      ]
     },
     "execution_count": 8,
     "metadata": {},
     "output_type": "execute_result"
    }
   ],
   "source": [
    "clf.W.shape"
   ]
  },
  {
   "cell_type": "code",
   "execution_count": 6,
   "metadata": {
    "collapsed": false
   },
   "outputs": [
    {
     "name": "stdout",
     "output_type": "stream",
     "text": [
      "Epoch: 0 0.95\n",
      "Epoch: 1 0.95\n",
      "Epoch: 2 0.95\n",
      "Epoch: 3 1.0\n",
      "Epoch: 4 1.0\n",
      "Epoch: 5 1.0\n",
      "Epoch: 6 1.0\n",
      "Epoch: 7 1.0\n",
      "Epoch: 8 1.0\n",
      "Epoch: 9 1.0\n"
     ]
    },
    {
     "data": {
      "image/png": "[encoded data removed]",
      "text/plain": [
       "<matplotlib.figure.Figure at 0x7f72422e4f50>"
      ]
     },
     "metadata": {},
     "output_type": "display_data"
    }
   ],
   "source": [
    "\n",
    "clf = Perceptron(3, 0.2)\n",
    "for i in range(0, 10):\n",
    "    print \"Epoch: %d\"%i,\n",
    "    clf.fit(Z,Y)\n",
    "#     fig = plt.figure(figsize=(5,5))\n",
    "clf.visualize(Z, Y)\n"
   ]
  },
  {
   "cell_type": "code",
   "execution_count": 32,
   "metadata": {
    "collapsed": false
   },
   "outputs": [
    {
     "name": "stdout",
     "output_type": "stream",
     "text": [
      "[0 0]: -0.017744911993 -> 0\n",
      "[0 1]: 0.204878604442 -> 1\n",
      "[1 0]: 0.766693814327 -> 1\n",
      "[1 1]: 0.989317330763 -> 1\n"
     ]
    }
   ],
   "source": [
    "from random import choice\n",
    "import numpy as np\n",
    "\n",
    "unit_step = lambda x: 0 if x < 0 else 1\n",
    "\n",
    "training_data = [\n",
    "    (np.array([0,0,1]), 0),\n",
    "    (np.array([0,1,1]), 1),\n",
    "    (np.array([1,0,1]), 1),\n",
    "    (np.array([1,1,1]), 1),\n",
    "]\n",
    "\n",
    "w = np.random.rand(3)\n",
    "errors = []\n",
    "eta = 0.2 #Parameter\n",
    "n = 20 #How many times one will sample the tranining set (stochastic updates)\n",
    "\n",
    "for i in xrange(n):\n",
    "    x, expected = choice(training_data)\n",
    "    result = np.dot(w, x)\n",
    "    error = expected - unit_step(result)\n",
    "    errors.append(error)\n",
    "    w += eta * error * x\n",
    "\n",
    "for x, _ in training_data:\n",
    "    result = np.dot(x, w)\n",
    "    print(\"{}: {} -> {}\".format(x[:2], result, unit_step(result)))"
   ]
  },
  {
   "cell_type": "code",
   "execution_count": 78,
   "metadata": {
    "collapsed": false
   },
   "outputs": [],
   "source": [
    "def generate_points(N, V):\n",
    "    X = []\n",
    "    for i in range(N):\n",
    "        x1,x2 = [random.uniform(-1, 1) for i in range(2)]\n",
    "        x = np.array([1,x1,x2])\n",
    "        s = int(np.sign(V.T.dot(x)))\n",
    "        X.append((x, s))\n",
    "    return X\n",
    "xA,yA,xB,yB = [random.uniform(-1, 1) for i in range(4)]\n",
    "V = np.array([xB*yA-xA*yB, yB-yA, xA-xB])\n",
    "X = generate_points(20, V)"
   ]
  },
  {
   "cell_type": "code",
   "execution_count": 79,
   "metadata": {
    "collapsed": false
   },
   "outputs": [],
   "source": []
  },
  {
   "cell_type": "code",
   "execution_count": 80,
   "metadata": {
    "collapsed": false
   },
   "outputs": [
    {
     "data": {
      "text/plain": [
       "(20, 3)"
      ]
     },
     "execution_count": 80,
     "metadata": {},
     "output_type": "execute_result"
    }
   ],
   "source": [
    "Z= np.array(Z)\n",
    "Y = np.array(Y)\n",
    "Z.shape"
   ]
  },
  {
   "cell_type": "code",
   "execution_count": 81,
   "metadata": {
    "collapsed": true
   },
   "outputs": [],
   "source": [
    "import matplotlib.pyplot as plt\n",
    "%matplotlib inline"
   ]
  },
  {
   "cell_type": "code",
   "execution_count": 82,
   "metadata": {
    "collapsed": false
   },
   "outputs": [
    {
     "data": {
      "text/plain": [
       "[<matplotlib.lines.Line2D at 0x5f69050>]"
      ]
     },
     "execution_count": 82,
     "metadata": {},
     "output_type": "execute_result"
    },
    {
     "data": {
      "image/png": "[encoded data removed]",
      "text/plain": [
       "<matplotlib.figure.Figure at 0x5f48150>"
      ]
     },
     "metadata": {},
     "output_type": "display_data"
    }
   ],
   "source": [
    "plt.plot(Z[:, 1][Y==1], Z[:, 2][Y==1], 'ro')\n",
    "plt.plot(Z[:, 1][Y==-1], Z[:, 2][Y==-1], 'bo')"
   ]
  },
  {
   "cell_type": "code",
   "execution_count": null,
   "metadata": {
    "collapsed": true
   },
   "outputs": [],
   "source": []
  }
 ],
 "metadata": {
  "kernelspec": {
   "display_name": "Python 2",
   "language": "python",
   "name": "python2"
  },
  "language_info": {
   "codemirror_mode": {
    "name": "ipython",
    "version": 2
   },
   "file_extension": ".py",
   "mimetype": "text/x-python",
   "name": "python",
   "nbconvert_exporter": "python",
   "pygments_lexer": "ipython2",
   "version": "2.7.12"
  }
 },
 "nbformat": 4,
 "nbformat_minor": 0
}
