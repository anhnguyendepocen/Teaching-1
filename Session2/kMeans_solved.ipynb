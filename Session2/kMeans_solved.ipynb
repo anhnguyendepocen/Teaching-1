{
 "cells": [
  {
   "cell_type": "markdown",
   "metadata": {},
   "source": [
    "# K-means\n",
    "\n",
    "In the unsupervised setting, one of the most straightforward tasks we can perform is to find groups of data instances which are similar between each other. We call such groups of data points clusters.\n",
    "\n",
    "We position ourselves in the setting where we have access to a dataset $D$ that consists of instances $x \\in \\mathbb{R}^n$. For example, if our instances have two features $x_1$ and $x_2$ we are in the $\\mathbb{R}^2$ space. For simplicity and visualization purposes in this session, we assume our data to be 2-dimensional. That said, the method (as well as the implementation) generalizes to more dimensions in a straightforward way.   \n",
    "\n",
    "$k$-Means is one of the most popular and representative \"clustering\" algorithms. $k$-means stores $k$ centroids, that is points in the $n$-dimensional space which are then used to define clusters. A point is considered to be in a particular cluster if it is closer to that cluster's centroid than any other centroid. \n",
    "\n",
    "### The optimization algorithm\n",
    "The most common algorithm uses an iterative refinement technique. $k$-means is a ubiquitous case of the Expectation Maximization algorithm for clustering; it is also referred to as Lloyd's algorithm.\n",
    "\n",
    "Given an initial set of $k$ centroids $m_1(1), \\ldots, m_k(1)$ , the algorithm proceeds by alternating between two steps:\n",
    "\n",
    "- Assignment step: Assign each observation to the cluster whose mean yields the least within-cluster sum of squares (WCSS). Since the sum of squares is the squared Euclidean distance, this is intuitively the \"nearest\" mean.\n",
    "\n",
    "- Update step: Calculate the new means to be the centroids of the observations in the new clusters. Since the arithmetic mean is a least-squares estimator, this also minimizes the within-cluster sum of squares (WCSS) objective.\n",
    "\n",
    "The algorithm has converged when the assignments no longer change. Since both steps optimize the WCSS objective, and there only exists a finite number of such partitionings, the algorithm must converge to a (local) optimum. There is no guarantee that the global optimum is found using this algorithm.\n",
    "\n",
    "The algorithm is often presented as assigning objects to the nearest cluster by distance. The standard algorithm aims at minimizing the WCSS objective, and thus assigns by \"least sum of squares\", which is exactly equivalent to assigning by the smallest Euclidean distance. Using a different distance function other than (squared) Euclidean distance may stop the algorithm from converging.\n",
    "\n",
    "### Initialization methods\n",
    "\n",
    "Commonly used initialization methods are Forgy and Random Partition. The Forgy method randomly chooses $k$ observations from the data set and uses them as the initial means. The Random Partition method first randomly assigns a cluster to each observation and then proceeds to the update step, thus computing the initial mean to be the centroid of the cluster's randomly assigned points. The Forgy method tends to spread the initial means out, while Random Partition places all of them close to the center of the data set. For expectation maximization and standard k-means algorithms, the Forgy method of initialization is preferable.\n",
    "\n",
    "\n",
    "\n",
    "### Illustration of training\n",
    "We will implement the $k$-means algorithm in this session. To make it easier to understand, the figure belows illustrates the process.\n",
    "\n",
    "![K-Means illustration](./kmeansViz.png)\n",
    "\n",
    "The figure depicts the k-means algorithm (Images courtesy of Michael Jordan and adapted from http://stanford.edu/~cpiech/cs221/handouts/kmeans.html). The training examples are shown as dots, and the cluster centroids are shown as crosses. (a) the dataset, (b) random initial cluster centroids -- one may initialize the algorithm using data points as centroids also, (c-f) illustration of running two iterations of k-means. In each iteration, we assign each training example to the closest cluster centroid (shown by \"painting\" the training examples the same color as the cluster centroid to which is assigned); then we move each cluster centroid to the mean of the points assigned to it. \n",
    "\n",
    "### Today\n",
    "Our goal today, is to code the k-means algorithm.\n",
    "\n",
    "Let us begin by creating a toy dataset using the `make_blobs` function of scikit-learn.  You first need to import the function (`from sklearn.datasets import make_blobs`).\n",
    "\n",
    "Remember that `?make_blobs` returns the documentation of the function.\n",
    "\n",
    "Other functions that may be of use:\n",
    "- `numpy.random.choice`\n",
    "- `scipy.spatial.distance.cdist`\n",
    "- `numpy.argmin`\n",
    "- `np.array_equal`\n"
   ]
  },
  {
   "cell_type": "code",
   "execution_count": 1,
   "metadata": {
    "collapsed": false
   },
   "outputs": [],
   "source": [
    "from sklearn.datasets import make_blobs\n",
    "import matplotlib.pyplot as plt #To be able to plot data\n",
    "#to plot data within the notebook\n",
    "%matplotlib inline"
   ]
  },
  {
   "cell_type": "code",
   "execution_count": 2,
   "metadata": {
    "collapsed": false
   },
   "outputs": [
    {
     "data": {
      "text/plain": [
       "<matplotlib.collections.PathCollection at 0x5724d10>"
      ]
     },
     "execution_count": 2,
     "metadata": {},
     "output_type": "execute_result"
    },
    {
     "data": {
      "image/png": "[encoded data removed]",
      "text/plain": [
       "<matplotlib.figure.Figure at 0x4670cd0>"
      ]
     },
     "metadata": {},
     "output_type": "display_data"
    }
   ],
   "source": [
    "n_samples = 50 # Number of data points in our dataset\n",
    "X, y = make_blobs(n_samples=n_samples, n_features=2, centers=5, shuffle=True, random_state=7)\n",
    "#X: coordinates of the points\n",
    "#y: cluster_id of each point\n",
    "\n",
    "reference_colors = 'bgrcmyk' #support up to 7 clusters with different colors\n",
    "colors_scatter = [reference_colors[j] for j in y ] #Given the cluster_id of each point, make a list with the appropriate colors\n",
    "\n",
    "plt.scatter(X[:, 0], X[:,1], color = colors_scatter) #Generate the scatterplot"
   ]
  },
  {
   "cell_type": "code",
   "execution_count": 5,
   "metadata": {
    "collapsed": true
   },
   "outputs": [],
   "source": [
    "import numpy as np\n",
    "\n",
    "def cluster_centroids(data, clusters, k=None):\n",
    "    \"\"\"Return centroids of clusters in data.\n",
    "\n",
    "    data is an array of observations with shape (A, B, ...).\n",
    "\n",
    "    clusters is an array of integers of shape (A,) giving the index\n",
    "    (from 0 to k-1) of the cluster to which each observation belongs.\n",
    "    The clusters must all be non-empty.\n",
    "\n",
    "    k is the number of clusters. If omitted, it is deduced from the\n",
    "    values in the clusters array.\n",
    "\n",
    "    The result is an array of shape (k, B, ...) containing the\n",
    "    centroid of each cluster.\n",
    "\n",
    "    >>> data = np.array([[12, 10, 87],\n",
    "    ...                  [ 2, 12, 33],\n",
    "    ...                  [68, 31, 32],\n",
    "    ...                  [88, 13, 66],\n",
    "    ...                  [79, 40, 89],\n",
    "    ...                  [ 1, 77, 12]])\n",
    "    >>> cluster_centroids(data, np.array([1, 1, 2, 2, 0, 1]))\n",
    "    array([[ 79.,  40.,  89.],\n",
    "           [  5.,  33.,  44.],\n",
    "           [ 78.,  22.,  49.]])\n",
    "\n",
    "    \"\"\"\n",
    "    if k is None:\n",
    "        k = np.max(clusters) + 1\n",
    "    result = np.empty(shape=(k,) + data.shape[1:])\n",
    "    \n",
    "    for i in range(k):\n",
    "        np.mean(data[clusters == i], axis=0, out=result[i])\n",
    "    return result\n",
    "\n",
    "import scipy.spatial\n",
    "\n",
    "def kmeans(data, k=None, centroids=None, steps=20):\n",
    "    \"\"\"Divide the observations in data into clusters using the k-means\n",
    "    algorithm, and return an array of integers assigning each data\n",
    "    point to one of the clusters.\n",
    "\n",
    "    centroids, if supplied, must be an array giving the initial\n",
    "    position of the centroids of each cluster.\n",
    "\n",
    "    If centroids is omitted, the number k gives the number of clusters\n",
    "    and the initial positions of the centroids are selected randomly\n",
    "    from the data.\n",
    "\n",
    "    The k-means algorithm adjusts the centroids iteratively for the\n",
    "    given number of steps, or until no further progress can be made.\n",
    "\n",
    "    >>> data = np.array([[12, 10, 87],\n",
    "    ...                  [ 2, 12, 33],\n",
    "    ...                  [68, 31, 32],\n",
    "    ...                  [88, 13, 66],\n",
    "    ...                  [79, 40, 89],\n",
    "    ...                  [ 1, 77, 12]])\n",
    "    >>> np.random.seed(73)\n",
    "    >>> kmeans(data, k=3)\n",
    "    array([1, 1, 2, 2, 0, 1])\n",
    "\n",
    "    \"\"\"\n",
    "    if centroids is not None and k is not None:\n",
    "        assert(k == len(centroids))\n",
    "    elif centroids is not None:\n",
    "        k = len(centroids)\n",
    "    elif k is not None:\n",
    "        # Forgy initialization method: choose k data points randomly.\n",
    "        centroids = data[np.random.choice(np.arange(len(data)), k, False)]\n",
    "    else:\n",
    "        raise RuntimeError(\"Need a value for k or centroids.\")\n",
    "\n",
    "    for iteration in range(max(steps, 1)):\n",
    "        # Squared distances between each point and each centroid.\n",
    "        sqdists = scipy.spatial.distance.cdist(centroids, data, 'sqeuclidean')\n",
    "\n",
    "        # Index of the closest centroid to each data point.\n",
    "        clusters = np.argmin(sqdists, axis=0)\n",
    "\n",
    "        new_centroids = cluster_centroids(data, clusters, k)\n",
    "        if np.array_equal(new_centroids, centroids):\n",
    "            print(\"Converged at %d iterations.\"%iteration)\n",
    "            break\n",
    "\n",
    "        centroids = new_centroids\n",
    "\n",
    "    return clusters"
   ]
  },
  {
   "cell_type": "code",
   "execution_count": 6,
   "metadata": {
    "collapsed": false
   },
   "outputs": [
    {
     "name": "stdout",
     "output_type": "stream",
     "text": [
      "Converged at 2 iterations.\n"
     ]
    },
    {
     "data": {
      "text/plain": [
       "<matplotlib.collections.PathCollection at 0x5062a90>"
      ]
     },
     "execution_count": 6,
     "metadata": {},
     "output_type": "execute_result"
    },
    {
     "data": {
      "image/png": "[encoded data removed]",
      "text/plain": [
       "<matplotlib.figure.Figure at 0x53c4190>"
      ]
     },
     "metadata": {},
     "output_type": "display_data"
    }
   ],
   "source": [
    "y_pred = kmeans(X, 5, steps = 100)\n",
    "colors_scatter = [reference_colors[j] for j in y ]\n",
    "plt.scatter(X[:, 0], X[:,1], color = colors_scatter)"
   ]
  },
  {
   "cell_type": "code",
   "execution_count": null,
   "metadata": {
    "collapsed": true
   },
   "outputs": [],
   "source": []
  }
 ],
 "metadata": {
  "kernelspec": {
   "display_name": "Python 2",
   "language": "python",
   "name": "python2"
  },
  "language_info": {
   "codemirror_mode": {
    "name": "ipython",
    "version": 2
   },
   "file_extension": ".py",
   "mimetype": "text/x-python",
   "name": "python",
   "nbconvert_exporter": "python",
   "pygments_lexer": "ipython2",
   "version": "2.7.5"
  }
 },
 "nbformat": 4,
 "nbformat_minor": 0
}
