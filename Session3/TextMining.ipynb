{
 "cells": [
  {
   "cell_type": "markdown",
   "metadata": {},
   "source": [
    "# Text mining\n",
    "\n",
    "Text mining refers to the process of deriving high-quality information from text. High-quality information is typically derived through the devising of patterns and trends through means such as statistical pattern learning.\n",
    "Typical text mining applications include:\n",
    "- Text categorization (or text classification),\n",
    "- Text clustering, \n",
    "- Sentiment analysis,\n",
    "- Automatic summarization, etc.\n",
    "\n",
    "\n",
    "## Exploratory analysis \n",
    "In most of these cases, the first step taken is an exploratory analysis of the corpus. Recall, that the corpus stands for a collection of documents we want to analyze. This aims at uncoverring patterns and visualizing statistics, which gives insights on any particularities of the corpus that can be used for the task in hand.\n",
    "\n",
    "In the rest, write functions that perform each of the following:\n",
    "1. load the contents of the file `wikipedia_data.txt` in a list where each element is a document\n",
    "2. Find the size of the corpus in words, denoted $|N|$\n",
    "3. Define a function `get_vocabulary`, that returns a dictionary with the vocabulary terms that appear in the corpus, and each term is associated with an integer, e.g., {'cat':0, 'dog':1, 'kitchen':3}. It returns a second dictionary with the counts of the term occurences, e.g.,  {'cat':5, 'dog':3, 'kitchen':13}\n",
    "4. Calculate the vocabulary size,  denoted  $|V|$\n",
    "4. Calculate `TTR`, that is type token ratio and is a measure of lexical richness: `TTR`=$\\frac{|V|}{|N|}$\n",
    "\n"
   ]
  },
  {
   "cell_type": "code",
   "execution_count": 1,
   "metadata": {
    "collapsed": false
   },
   "outputs": [
    {
     "name": "stdout",
     "output_type": "stream",
     "text": [
      "it is nice !  !  ! \n"
     ]
    }
   ],
   "source": [
    "s = \"It is nice!!!\"\n",
    "s = s.lower()\n",
    "for punct in string.puctuation:\n",
    "    s = s.replace(punct, ' %s '%punct)\n",
    "print s"
   ]
  },
  {
   "cell_type": "code",
   "execution_count": 1,
   "metadata": {
    "collapsed": true
   },
   "outputs": [],
   "source": [
    "#Write the get_vocabulary fun<ction here\n",
    "def get_vocabulary(text):\n",
    "    \"\"\"Calculates simple vocabulary counts. Returns:\n",
    "    word2id: dictionary where each word is associated with an id\n",
    "    word_counts: dictionary where the counts of the word occurences are saved\n",
    "    Prep-processing steps: only lower-casing is applied. TBD: add more elaborate pre-processing steps.\n",
    "    \"\"\"\n",
    "    word2id, word_counts, cnt={}, {}, 0\n",
    "    for document in text:\n",
    "        document = document.lower()\n",
    "        words = document.split()\n",
    "        for word in words:\n",
    "            try:\n",
    "                word2id[word]\n",
    "                word_counts[word] += 1\n",
    "            except:\n",
    "                word2id[word] = cnt\n",
    "                cnt +=1\n",
    "                word_counts[word] = 1\n",
    "    return word2id, word_counts"
   ]
  },
  {
   "cell_type": "code",
   "execution_count": 2,
   "metadata": {
    "collapsed": false
   },
   "outputs": [
    {
     "name": "stdout",
     "output_type": "stream",
     "text": [
      "{'a': 1, 'on': 2, 'we': 1, 'mat': 1, 'in': 1, 'house.': 1, 'dog': 1, 'cat': 1, 'have': 1, 'mat!': 1, 'mat.': 1, 'the': 4, 'my': 1, 'sat': 2}\n"
     ]
    }
   ],
   "source": [
    "#Let's test the function with some sample data\n",
    "text_sample = [\"The dog sat on the mat.\", \"The cat sat on the mat!\", \"We have a mat in my house.\"]\n",
    "word2id, word_counts = get_vocabulary(text_sample)      \n",
    "print(word_counts)\n",
    "#What do you notice? How can we improve this "
   ]
  },
  {
   "cell_type": "markdown",
   "metadata": {},
   "source": [
    "## Stop word filtering and other cleaning operations"
   ]
  },
  {
   "cell_type": "markdown",
   "metadata": {},
   "source": [
    "Stop words are words which are filtered out before or after processing of natural language data (text). There is no universal stop-word list. Often, stop word lists include short function words, such as \"the\", \"is\", \"at\", \"which\", and \"on\". Removing  stop-words has been shown to increase the performance of different tasks like search. \n",
    "\n",
    "\n",
    "Python hint: checking for membership is much faster in a set than in a list. You can convert a list to a set by simply:\n",
    "`my_list = set(my_list)`\n",
    "\n",
    "Other cleaning operations:\n",
    "- Add white space before and after punctuation \n",
    "- Remove non-letters, like numbers {`letters_only = re.sub(\"[^a-zA-Z]\", \" \", text)`}\n",
    "- Convert to lower case\n",
    "\n",
    "Load the contents of the file 'stop_words.txt' where each line is a stop word, and create a stop-word list. Write a function `clean_text` that performs word-stop removal and any other cleaning operations you may think of. Repeat steps 1-5 from above to find any noticeable changes. \n"
   ]
  },
  {
   "cell_type": "code",
   "execution_count": 3,
   "metadata": {
    "collapsed": true
   },
   "outputs": [],
   "source": [
    "from string import punctuation\n",
    "import re\n",
    "\n",
    "stopwords = set( open('./stop_words.txt').read().splitlines() )\n",
    "\n",
    "def clean_text(text, stop_words=None, white_space_punctuation=True, remove_non_letters=True, lower=True):\n",
    "    \"\"\"\n",
    "    Cleans the text of a document.\n",
    "    Input text: type string: the contents of a document\n",
    "    Returns: a string, with words separated by white space\n",
    "    Optional:\n",
    "        stop_words: if True, filter stop words\n",
    "        white_space_punctuation: append before and after punctuation white space\n",
    "        remove_non_letters: remove every word that does not consist of characters\n",
    "        lower: if True, lowercase the text\n",
    "    \"\"\"\n",
    "\n",
    "    if lower:\n",
    "        text = text.lower()\n",
    "    if white_space_punctuation:\n",
    "        for punct_symbol in punctuation:\n",
    "            try:\n",
    "                text = text.replace(punct_symbol, \" %s \"%punct_symbol)\n",
    "            except:\n",
    "                pass\n",
    "    if remove_non_letters:\n",
    "        text = re.sub(\"[^a-zA-Z]\", \" \", text)\n",
    "    if stop_words != None:\n",
    "        text = [x for x in text.split() if x not in stop_words]\n",
    "        text = \" \".join(text)\n",
    "        \n",
    "    return text"
   ]
  },
  {
   "cell_type": "code",
   "execution_count": 4,
   "metadata": {
    "collapsed": false
   },
   "outputs": [
    {
     "name": "stdout",
     "output_type": "stream",
     "text": [
      "['the dog sat on the mat   ', 'the cat sat on the mat   ', 'we have a mat in the house   ']\n"
     ]
    }
   ],
   "source": [
    "text_sample = [\"The dog sat on the mat.\", \"The cat sat on the mat!\", \"We have a mat in the house.\"]\n",
    "print ([clean_text(instance) for instance in text_sample])"
   ]
  },
  {
   "cell_type": "markdown",
   "metadata": {},
   "source": [
    "### Zipf law\n",
    "Verify whether the dataset follows the zipf law, by plotting the data on a log-log graph, with the axes being log (rank order) and log (frequency). You expect to obtain an alomost straight line. \n",
    "Integrate the `clean_text` function in the `get_vocabulary` function. \n",
    "Repeat the process of investigating the Zipf law, with and without stop-word removal.\n"
   ]
  },
  {
   "cell_type": "code",
   "execution_count": 5,
   "metadata": {
    "collapsed": false
   },
   "outputs": [
    {
     "name": "stdout",
     "output_type": "stream",
     "text": [
      "36187 36187\n"
     ]
    },
    {
     "data": {
      "image/png": "[encoded data removed]",
      "text/plain": [
       "<matplotlib.figure.Figure at 0x7f373da31c50>"
      ]
     },
     "metadata": {},
     "output_type": "display_data"
    }
   ],
   "source": [
    "import matplotlib.pyplot as plt, math\n",
    "%matplotlib inline\n",
    "\n",
    "wikipedia_data = open('./wikipedia_data.txt').read().splitlines()\n",
    "\n",
    "wiki_word2id, wiki_word_counts = get_vocabulary(wikipedia_data)\n",
    "\n",
    "counts = np.array(wiki_word_counts.values())\n",
    "tokens = np.array(wiki_word_counts.keys())\n",
    "ranks = np.arange(1, len(wiki_word_counts)+1)\n",
    "\n",
    "indices = np.argsort(-counts)\n",
    "frequencies = counts[indices]\n",
    "print len(ranks), len(frequencies)\n",
    "plt.plot(ranks, frequencies, 'o', markersize=0.9)\n",
    "plt.yscale('log')\n",
    "\n",
    "plt.xscale('log')\n",
    "plt.title(\"Zipf plot for our data\")\n",
    "plt.xlabel(\"Frequency rank of token\")\n",
    "plt.ylabel(\"Absolute frequency of token\")\n",
    "plt.grid()\n",
    "for n in list(np.logspace(-0.5, math.log10(len(counts)-1), 20).astype(int)):\n",
    "    dummy = plt.text(ranks[n], frequencies[n], \" \" + tokens[indices[n]],   \n",
    "                     verticalalignment=\"bottom\", horizontalalignment=\"left\")\n"
   ]
  },
  {
   "cell_type": "markdown",
   "metadata": {},
   "source": [
    "### Sparse Vs Dense Matrices\n",
    "\n",
    "Dense matrices store every entry in the matrix. Sparse matrices only store the nonzero entries. Sparse matrices don't have a lot of extra features, and some algorithms may not work for them. You use them when you need to work with matrices that would be too big for the computer to handle them, but they are mostly zero, so they compress easily. Be aware of issues that may arise at:\n",
    "- dot product\n",
    "- slicing (row, column)\n",
    "\n",
    "In python these are taken care almost automatically, by using sparse dot product and implementations of csr and csc matrices (`scipy.sparse.csr_matrix`, `scipy.sparse.csc_matrix`, etc..). \n"
   ]
  },
  {
   "cell_type": "markdown",
   "metadata": {},
   "source": [
    "## Vector Space Model\n",
    "\n",
    "The vector space model is an algebraic model for representing text documents as vectors of identifiers, such as, for example, index terms.  Each dimension in the vector corresponds to a separate term. If a term occurs in the document, its value in the vector is non-zero.\n",
    "\n",
    "Write a function `term_frequency_vectorizer(text)`, that given a list of raw text documents, returns their vector-space representation. "
   ]
  },
  {
   "cell_type": "code",
   "execution_count": 6,
   "metadata": {
    "collapsed": true
   },
   "outputs": [],
   "source": [
    "from scipy import sparse\n",
    "def term_frequency_vectorizer(text, vocabulary=None):\n",
    "    \"\"\"\n",
    "    Returns the tf representation of a corpus in sparse format\n",
    "    Input: text: cleaned text\n",
    "    Optional: vocabulary: the number of distinct words. If it is given, use only these terms \n",
    "    and ignore out-of-vocabulary terms. Otherwise, generate the vocabulary.\n",
    "    \"\"\"\n",
    "\n",
    "    # do a first pass to generate vocabulary\n",
    "    if vocabulary is None:\n",
    "        vocabulary = get_vocabulary(text)[0]\n",
    "        \n",
    "        \n",
    "    row = []\n",
    "    col = []\n",
    "    values = []\n",
    "                \n",
    "    for doc_id, instance in enumerate(text):\n",
    "        words = instance.split()\n",
    "        doc_words = {}\n",
    "        for word in words:\n",
    "            try:\n",
    "                doc_words[vocabulary[word]] +=1\n",
    "            except:\n",
    "                doc_words[vocabulary[word]] = 1\n",
    "        col.extend(doc_words.keys())\n",
    "        values.extend(doc_words.values())\n",
    "        row.extend([doc_id]*len(doc_words))\n",
    "    print len(row), len(col), len(values)\n",
    "    return sparse.csr_matrix( (values, (row, col)), shape=(len(text), len(vocabulary)))"
   ]
  },
  {
   "cell_type": "code",
   "execution_count": 7,
   "metadata": {
    "collapsed": false
   },
   "outputs": [
    {
     "name": "stdout",
     "output_type": "stream",
     "text": [
      "8 8 8\n",
      "[[1 1 1 0 0]\n",
      " [0 1 1 1 0]\n",
      " [0 0 1 0 1]]\n"
     ]
    }
   ],
   "source": [
    "#Text the term_frequency_vectorizer functionality\n",
    "text = [clean_text(x, stopwords ) for x in text_sample]\n",
    "tf = term_frequency_vectorizer(text)\n",
    "print tf.todense()"
   ]
  },
  {
   "cell_type": "markdown",
   "metadata": {},
   "source": [
    "## Inverse Document Frequency (idf) weighting scheme\n",
    "The idf weighting scheme is frequently used in information retrieval and machine learning applications and has been shown to be effective. It combines local and global term statistics in the following way:\n",
    "- The weight vector for document $d$ is $v_d=[w_{1,d} , w_{2,d},\\ldots, w_{N,d}]$ where $w_{t,d}=tf_{t,d}\\times\\log\\frac{|D|}{|d'\\in D | t\\in d'| + 1}$. In the denominator we have added 1 to avoid division by zero, which is called smoothing. \n",
    "- As you may have already seen, to pass from the `term_frequency` representations to the tf-idf representations, all we need to do is multiply the non-zero terms with their idf. \n",
    "\n",
    "Write a function `idf_transformer(tf_vectors)`, that given  the `tf_vectors` of a corpus, returns the tf-idf representation of the corpus.  \n"
   ]
  },
  {
   "cell_type": "code",
   "execution_count": 8,
   "metadata": {
    "collapsed": false
   },
   "outputs": [],
   "source": [
    "def idf_tranformer(term_frequency_matrix):\n",
    "    \"\"\"Transforms a tf matrix to tf-idf representation\n",
    "    Inputs: tf sparse array\n",
    "    Returns: sparce tf-idf array\n",
    "    \"\"\"\n",
    "    idf = np.array(term_frequency_matrix.sum(axis=0).tolist()[0])\n",
    "    D = term_frequency_matrix.shape[0]+1\n",
    "    idf = np.log(D / (idf+1.0)) +1.0\n",
    "    idf = sparse.spdiags(idf, diags=0, m=len(idf), n=len(idf))\n",
    "    print term_frequency_matrix.shape, idf.shape\n",
    "    return (term_frequency_matrix)*idf"
   ]
  },
  {
   "cell_type": "markdown",
   "metadata": {},
   "source": [
    "## Document Classification using the Vector Space Model"
   ]
  },
  {
   "cell_type": "markdown",
   "metadata": {},
   "source": [
    "A text classification pipeline usually involves the following steps:\n",
    "- Data loading (`corpus1.txt`, `corpus_labels.txt`)\n",
    "- Train-test split of the data (`sklearn.cross_validation.train_test_split`, using 80%-20% split.)\n",
    "- Data cleaning (implemented today)\n",
    "- Feature Engineering and Transformation to the Vector Space model (implemented today)\n",
    "- Feature normalisation using the $L_2$ norm (TBD)\n",
    "- Model selection, where the algorithm to be trained is selected (e.g., Perceptron from session 1, adapted to sparse data)\n",
    "- Training of the classification alogrithm \n",
    "- Application of the trained model to unseen data\n",
    "\n",
    "In the following, implement the above pipeline using the instruction on the parentheses. "
   ]
  },
  {
   "cell_type": "code",
   "execution_count": 9,
   "metadata": {
    "collapsed": false
   },
   "outputs": [],
   "source": [
    "class Perceptron:\n",
    "    def __init__(self, N, eta=0.2):\n",
    "        self.W = np.zeros(N)\n",
    "        self.eta = eta\n",
    "        \n",
    "    def step(self, value):\n",
    "        if value >= 0:\n",
    "            return 1\n",
    "        else:\n",
    "            return -1\n",
    "        \n",
    "    def forward_prop(self, x_input):\n",
    "        return x_input.dot(self.W)\n",
    "        \n",
    "    def getScore(self, X, Y):\n",
    "        cnt = 0\n",
    "        for key, val in enumerate(X):\n",
    "            if self.step( self.forward_prop(val) ) != Y[key]:\n",
    "                cnt +=1 \n",
    "        return 1 - cnt/float(X.shape[0])\n",
    "            \n",
    "    \n",
    "    def fit(self, X, Y, iterations=0):\n",
    "        if not iterations:\n",
    "            iterations = len(Y)\n",
    "        for i in range(iterations):\n",
    "            ind = np.random.randint(0, len(Y)) #Pick randomly a training example index\n",
    "            prediction = self.step( self.forward_prop(X[ind]) ) \n",
    "            if prediction != Y[ind]:  # We need to update the weights, because we made an error\\                \n",
    "                self.W = self.W + self.eta * Y[ind] * X[ind].toarray()[0]\n",
    "        return self.getScore(X,Y)\n",
    "                \n",
    "    def predict(self, X):\n",
    "        pred = []\n",
    "        for i in range(X.shape[0]):\n",
    "            pred.append(self.step( self.forward_prop(X[i]) ))\n",
    "        return pred\n",
    "        \n"
   ]
  },
  {
   "cell_type": "code",
   "execution_count": 10,
   "metadata": {
    "collapsed": false
   },
   "outputs": [
    {
     "name": "stdout",
     "output_type": "stream",
     "text": [
      "28307 28307 28307\n",
      "(10000, 5017) (5017, 5017)\n"
     ]
    }
   ],
   "source": [
    "from sklearn.utils import shuffle\n",
    "from sklearn.cross_validation import train_test_split\n",
    "from sklearn.metrics import accuracy_score\n",
    "\n",
    "x = open('./corpus1.txt').read().splitlines()\n",
    "y = open('./corpus_labels.txt').read().splitlines()\n",
    "x,y = shuffle(x,y)\n",
    "y = np.array([float(i) for i in y])\n",
    "y[y==0] = -1\n",
    "\n",
    "stopwords = open('stop_words.txt').read().splitlines()\n",
    "cleaned_text = [clean_text(i, stop_words=stopwords) for i in x]\n",
    "x = term_frequency_vectorizer(cleaned_text)\n",
    "x = x.astype(float)\n",
    "x_idf = idf_tranformer(x)"
   ]
  },
  {
   "cell_type": "code",
   "execution_count": 11,
   "metadata": {
    "collapsed": false
   },
   "outputs": [],
   "source": [
    "x_train, x_test, y_train, y_test =train_test_split(x, y, test_size = 0.3)"
   ]
  },
  {
   "cell_type": "code",
   "execution_count": 12,
   "metadata": {
    "collapsed": false
   },
   "outputs": [
    {
     "name": "stdout",
     "output_type": "stream",
     "text": [
      "Epoch: 0, Training score: 0.8163 \t Test score: 0.7540\n",
      "Epoch: 1, Training score: 0.8414 \t Test score: 0.7537\n",
      "Epoch: 2, Training score: 0.8707 \t Test score: 0.7730\n",
      "Epoch: 3, Training score: 0.8703 \t Test score: 0.7577\n",
      "Epoch: 4, Training score: 0.8857 \t Test score: 0.7680\n",
      "Epoch: 5, Training score: 0.8731 \t Test score: 0.7567\n",
      "Epoch: 6, Training score: 0.9004 \t Test score: 0.7627\n",
      "Epoch: 7, Training score: 0.9067 \t Test score: 0.7637\n",
      "Epoch: 8, Training score: 0.9029 \t Test score: 0.7610\n",
      "Epoch: 9, Training score: 0.9013 \t Test score: 0.7580\n"
     ]
    }
   ],
   "source": [
    "clf = Perceptron(5017, eta= 0.4)\n",
    "from sklearn.preprocessing import normalize\n",
    "for epoch in range(10):\n",
    "    training_score = clf.fit(normalize(x_train), y_train)\n",
    "    preds = clf.predict(normalize(x_test))\n",
    "    print \"Epoch: %d, Training score: %0.4f \\t Test score: %0.4f\"%(epoch, training_score, accuracy_score(y_test, preds))"
   ]
  },
  {
   "cell_type": "code",
   "execution_count": null,
   "metadata": {
    "collapsed": true
   },
   "outputs": [],
   "source": []
  }
 ],
 "metadata": {
  "anaconda-cloud": {},
  "kernelspec": {
   "display_name": "Python [default]",
   "language": "python",
   "name": "python2"
  },
  "language_info": {
   "codemirror_mode": {
    "name": "ipython",
    "version": 2
   },
   "file_extension": ".py",
   "mimetype": "text/x-python",
   "name": "python",
   "nbconvert_exporter": "python",
   "pygments_lexer": "ipython2",
   "version": "2.7.12"
  }
 },
 "nbformat": 4,
 "nbformat_minor": 0
}
